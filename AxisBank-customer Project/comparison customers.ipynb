{
 "cells": [
  {
   "cell_type": "code",
   "execution_count": 68,
   "id": "d02952f9",
   "metadata": {},
   "outputs": [],
   "source": [
    "# Import the Data preprocessing Libraries\n",
    "\n",
    "import pandas as pd\n",
    "import numpy as np"
   ]
  },
  {
   "cell_type": "code",
   "execution_count": 69,
   "id": "05f69f5b",
   "metadata": {},
   "outputs": [],
   "source": [
    "# Import mysql connector and stablish connection to axisbank database\n",
    "\n",
    "\n",
    "import mysql.connector\n",
    "\n",
    "mydb = mysql.connector.connect(\n",
    "  host=\"localhost\",\n",
    "  user=\"root\",\n",
    "  password=\"password\",\n",
    "    database=\"axisbank\"\n",
    ")\n",
    "\n",
    "mycursor = mydb.cursor()"
   ]
  },
  {
   "cell_type": "code",
   "execution_count": 70,
   "id": "78f8dbeb",
   "metadata": {},
   "outputs": [
    {
     "name": "stdout",
     "output_type": "stream",
     "text": [
      "('customers_acc_state',)\n",
      "('customers_details',)\n"
     ]
    }
   ],
   "source": [
    "# print the tables\n",
    "\n",
    "mycursor.execute(\"show tables\")\n",
    "\n",
    "myresult = mycursor.fetchall()\n",
    "\n",
    "for x in myresult:\n",
    "    print(x)"
   ]
  },
  {
   "cell_type": "code",
   "execution_count": 71,
   "id": "ed0618f7",
   "metadata": {},
   "outputs": [
    {
     "name": "stdout",
     "output_type": "stream",
     "text": [
      "(58, 'management', 'married', 'tertiary', 'apr', 261, '409000611074')\n",
      "(44, 'technician', 'single', 'secondary', 'feb', 151, '409000493201')\n",
      "(33, 'entrepreneur', 'married', 'secondary', 'mar', 76, '409000425051')\n",
      "(47, 'blue-collar', 'married', 'unknown', 'apr', 92, '409000405747')\n",
      "(33, 'unknown', 'single', 'unknown', 'dec', 198, '409000438611')\n",
      "(35, 'management', 'married', 'tertiary', 'nov', 139, '409000493210')\n",
      "(28, 'management', 'single', 'tertiary', 'jun', 217, '409000438620')\n",
      "(42, 'entrepreneur', 'divorced', 'tertiary', 'jul', 380, '1196711')\n",
      "(58, 'retired', 'married', 'primary', 'aug', 50, '1196428')\n",
      "(43, 'technician', 'single', 'secondary', 'dec', 55, '409000362497')\n"
     ]
    }
   ],
   "source": [
    "# Execute SELECT * FROM customers_details query\n",
    "\n",
    "mycursor.execute(\"SELECT * FROM customers_details\")\n",
    "\n",
    "myresult = mycursor.fetchall()\n",
    "\n",
    "for x in myresult:\n",
    "    print(x)"
   ]
  },
  {
   "cell_type": "code",
   "execution_count": 72,
   "id": "ceb72409",
   "metadata": {},
   "outputs": [
    {
     "name": "stdout",
     "output_type": "stream",
     "text": [
      "('409000611074',)\n",
      "('409000405747',)\n"
     ]
    }
   ],
   "source": [
    "# Select the customers who were addeded in the month of april\n",
    "\n",
    "mycursor.execute(\"\"\"SELECT Account_No FROM customers_details WHERE month = \"apr\" \"\"\")\n",
    "\n",
    "res = mycursor.fetchall()\n",
    "for x in res:\n",
    "    print(x)"
   ]
  },
  {
   "cell_type": "code",
   "execution_count": 73,
   "id": "b70e1476",
   "metadata": {},
   "outputs": [
    {
     "name": "stdout",
     "output_type": "stream",
     "text": [
      "Maximum balance of Account Number '409000405747' in the month of April:  558752028.14\n"
     ]
    }
   ],
   "source": [
    "# Maximum balance of Account Number '409000405747' in the month of April\n",
    "\n",
    "mycursor.execute(\"SELECT BALANCE_AMT FROM customers_acc_state WHERE Account_No=409000405747 AND date LIKE '%Apr%';\")\n",
    "myresult=mycursor.fetchall()\n",
    "\n",
    "max_bal = 0\n",
    "\n",
    "for x in myresult:\n",
    "    curr_bal = float(x[0].strip().replace(\",\",\"\")[1:])\n",
    "    if curr_bal > max_bal:\n",
    "        max_bal = curr_bal\n",
    "        \n",
    "print(\"Maximum balance of Account Number '409000405747' in the month of April: \",max_bal)"
   ]
  },
  {
   "cell_type": "code",
   "execution_count": 74,
   "id": "062e14ed",
   "metadata": {},
   "outputs": [
    {
     "name": "stdout",
     "output_type": "stream",
     "text": [
      "Maximum balance of Account Number '409000611074' in the month of April:  825809.0\n"
     ]
    }
   ],
   "source": [
    "# # Maximum balance of Account Number '409000611074' in the month of April\n",
    "\n",
    "mycursor.execute(\"SELECT BALANCE_AMT FROM customers_acc_state WHERE Account_No=409000611074 AND date LIKE '%Apr%';\")\n",
    "myresult=mycursor.fetchall()\n",
    "\n",
    "max_bal = 0\n",
    "\n",
    "for x in myresult:\n",
    "    curr_bal = float(x[0].strip().replace(\",\",\"\")[1:])\n",
    "    if curr_bal > max_bal:\n",
    "        max_bal = curr_bal\n",
    "        \n",
    "print(\"Maximum balance of Account Number '409000611074' in the month of April: \",max_bal)"
   ]
  },
  {
   "cell_type": "code",
   "execution_count": 75,
   "id": "5c8b4a33",
   "metadata": {},
   "outputs": [],
   "source": [
    "# So it's clear from the above queries that customer having account number '409000405747' is having max balance."
   ]
  },
  {
   "cell_type": "code",
   "execution_count": 76,
   "id": "36618848",
   "metadata": {},
   "outputs": [],
   "source": [
    "mydb.close()"
   ]
  }
 ],
 "metadata": {
  "kernelspec": {
   "display_name": "Python 3",
   "language": "python",
   "name": "python3"
  },
  "language_info": {
   "codemirror_mode": {
    "name": "ipython",
    "version": 3
   },
   "file_extension": ".py",
   "mimetype": "text/x-python",
   "name": "python",
   "nbconvert_exporter": "python",
   "pygments_lexer": "ipython3",
   "version": "3.6.9"
  }
 },
 "nbformat": 4,
 "nbformat_minor": 5
}
