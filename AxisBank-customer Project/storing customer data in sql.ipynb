{
 "cells": [
  {
   "cell_type": "code",
   "execution_count": 1,
   "id": "8552e78c",
   "metadata": {},
   "outputs": [],
   "source": [
    "# Importing data preprocessing lib\n",
    "import pandas as pd"
   ]
  },
  {
   "cell_type": "code",
   "execution_count": 2,
   "id": "2cf44f6b",
   "metadata": {},
   "outputs": [
    {
     "name": "stdout",
     "output_type": "stream",
     "text": [
      "<mysql.connector.connection_cext.CMySQLConnection object at 0x7fcd0ca14470>\n"
     ]
    }
   ],
   "source": [
    "# Import mysql connector and stablish connection\n",
    "\n",
    "import mysql.connector\n",
    "\n",
    "mydb = mysql.connector.connect(\n",
    "  host=\"localhost\",\n",
    "  user=\"root\",\n",
    "  password=\"password\"\n",
    ")\n",
    "\n",
    "print(mydb) "
   ]
  },
  {
   "cell_type": "code",
   "execution_count": 3,
   "id": "35239cff",
   "metadata": {},
   "outputs": [
    {
     "name": "stdout",
     "output_type": "stream",
     "text": [
      "('information_schema',)\n",
      "('metastore',)\n",
      "('metastore_db',)\n",
      "('mysql',)\n",
      "('performance_schema',)\n",
      "('sumit',)\n",
      "('sys',)\n"
     ]
    }
   ],
   "source": [
    "# Print the databases\n",
    "\n",
    "mycursor = mydb.cursor()\n",
    "\n",
    "mycursor.execute(\"show databases\")\n",
    "myresult = mycursor.fetchall()\n",
    "\n",
    "for x in myresult:\n",
    "    print(x)"
   ]
  },
  {
   "cell_type": "code",
   "execution_count": 4,
   "id": "abf696b0",
   "metadata": {},
   "outputs": [],
   "source": [
    "# Create new database\n",
    "\n",
    "mycursor.execute(\"CREATE DATABASE axisbank\")"
   ]
  },
  {
   "cell_type": "code",
   "execution_count": 5,
   "id": "22b38802",
   "metadata": {},
   "outputs": [],
   "source": [
    "# Use new database\n",
    "\n",
    "mydb = mysql.connector.connect(\n",
    "  host=\"localhost\",\n",
    "  user=\"root\",\n",
    "  password=\"password\",\n",
    "    database=\"axisbank\"\n",
    ")\n",
    "\n",
    "mycursor = mydb.cursor()"
   ]
  },
  {
   "cell_type": "code",
   "execution_count": 6,
   "id": "c64b2687",
   "metadata": {},
   "outputs": [],
   "source": [
    "# Create new table customers_details\n",
    "\n",
    "mycursor.execute(\"\"\"CREATE TABLE customers_details (age int,job VARCHAR(255),\n",
    "                 marital VARCHAR(255),education VARCHAR(255),month VARCHAR(255),\n",
    "                 duration int,Account_No VARCHAR(255))\"\"\")\n"
   ]
  },
  {
   "cell_type": "code",
   "execution_count": 7,
   "id": "6fb19dd8",
   "metadata": {},
   "outputs": [],
   "source": [
    "# Create new table customers_acc_state\n",
    "\n",
    "mycursor.execute(\"\"\"CREATE TABLE customers_acc_state (Account_No VARCHAR(255),\n",
    "                 DATE VARCHAR(255),TRANSACTION_DETAILS VARCHAR(255),\n",
    "                 CHQ_NO VARCHAR(255),VALUE_DATE VARCHAR(255),WITHDRAWAL_AMT VARCHAR(255),\n",
    "                 DEPOSIT_AMT VARCHAR(255),BALANCE_AMT VARCHAR(255))\"\"\")\n"
   ]
  },
  {
   "cell_type": "code",
   "execution_count": 8,
   "id": "3454fba9",
   "metadata": {},
   "outputs": [],
   "source": [
    "# Read the dataset from csv file and upload to the axisbank customers_details table\n",
    "\n",
    "csv_data = pd.read_csv('CustomersData/customers_details.csv')\n",
    "csv_data.drop(columns=csv_data.columns[0], axis=1, inplace=True)\n",
    "\n",
    "for index, row in csv_data.iterrows():\n",
    "    sql = \"INSERT INTO customers_details VALUES(%s,%s,%s,%s,%s,%s,%s)\"\n",
    "    mycursor.execute(sql, tuple(row))\n",
    "    mydb.commit()"
   ]
  },
  {
   "cell_type": "code",
   "execution_count": 9,
   "id": "2bfaf04f",
   "metadata": {},
   "outputs": [],
   "source": [
    "# Read the dataset from csv file and upload to the axisbank customers_acc_state table\n",
    "\n",
    "csv_data = pd.read_csv('CustomersData/newaccountstatements.csv')\n",
    "csv_data.drop(columns=csv_data.columns[0], axis=1, inplace=True)\n",
    "\n",
    "for index, row in csv_data.iterrows():\n",
    "    sql = \"INSERT INTO customers_acc_state VALUES(%s,%s,%s,%s,%s,%s,%s,%s)\"\n",
    "    mycursor.execute(sql, tuple(row))\n",
    "    mydb.commit()"
   ]
  },
  {
   "cell_type": "code",
   "execution_count": 10,
   "id": "298182fd",
   "metadata": {},
   "outputs": [],
   "source": [
    "# Close the connection\n",
    "\n",
    "mydb.close()"
   ]
  }
 ],
 "metadata": {
  "kernelspec": {
   "display_name": "Python 3",
   "language": "python",
   "name": "python3"
  },
  "language_info": {
   "codemirror_mode": {
    "name": "ipython",
    "version": 3
   },
   "file_extension": ".py",
   "mimetype": "text/x-python",
   "name": "python",
   "nbconvert_exporter": "python",
   "pygments_lexer": "ipython3",
   "version": "3.6.9"
  }
 },
 "nbformat": 4,
 "nbformat_minor": 5
}
